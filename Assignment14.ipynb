{
 "cells": [
  {
   "cell_type": "code",
   "execution_count": 3,
   "id": "f797a6b7-b34a-40b1-920d-170d620ab24b",
   "metadata": {},
   "outputs": [],
   "source": [
    "#Q.1 GET is used to retrieve data from the server\n",
    "# POST is used to send data to the server\n",
    "# In flask, you can handle GET and POST requests using the @app.router decorator"
   ]
  },
  {
   "cell_type": "code",
   "execution_count": 4,
   "id": "6dab216c-c358-4832-9830-1b086d3c2ca9",
   "metadata": {},
   "outputs": [],
   "source": [
    "#Q.2 In flask , the request object is used to access incoming request data\n",
    "# It is an instance of the request class which contains all the data\n",
    "# sent from the client to the server. The request object can be used \n",
    "# to retrieve data from a form , query string or JSON data sent to the request body"
   ]
  },
  {
   "cell_type": "code",
   "execution_count": 6,
   "id": "d85dde9c-62b8-42a7-8c51-0096af93a3c9",
   "metadata": {},
   "outputs": [],
   "source": [
    "#Q.3 In flask redirect() is a function used to redirect the user \n",
    "# to a different URL.It is often used after a form submission or after \n",
    "# a user logs in to redirect them to a different page."
   ]
  },
  {
   "cell_type": "code",
   "execution_count": 7,
   "id": "154202cc-9a44-4829-92cf-b7c877f76b45",
   "metadata": {},
   "outputs": [],
   "source": [
    "#Q.4 In flask, tempelates are files that contain static data as well\n",
    "# as placeholders for dynamic data. A template is rendered with specific\n",
    "# data to produce a final document.Flask uses the jinja template library to render templates\n",
    "\n",
    "# The render_template() function is used to render HTML templates. It\n",
    "# takes the  template's filename as its first argument and a set of variables as the second argument."
   ]
  },
  {
   "cell_type": "markdown",
   "id": "46da89ba-7ea8-42ed-bfbf-23c6c68acebf",
   "metadata": {
    "tags": []
   },
   "source": [
    "\n",
    "![](Assignment14Q.5)"
   ]
  },
  {
   "cell_type": "code",
   "execution_count": null,
   "id": "adf3fbb3-8cdc-4e77-bb2d-fe806358bd5a",
   "metadata": {},
   "outputs": [],
   "source": [
    "# I have placed the screenshot using ![](Assignment14Q.5)\n",
    "# So i will attach "
   ]
  }
 ],
 "metadata": {
  "kernelspec": {
   "display_name": "Python 3 (ipykernel)",
   "language": "python",
   "name": "python3"
  },
  "language_info": {
   "codemirror_mode": {
    "name": "ipython",
    "version": 3
   },
   "file_extension": ".py",
   "mimetype": "text/x-python",
   "name": "python",
   "nbconvert_exporter": "python",
   "pygments_lexer": "ipython3",
   "version": "3.10.8"
  }
 },
 "nbformat": 4,
 "nbformat_minor": 5
}
